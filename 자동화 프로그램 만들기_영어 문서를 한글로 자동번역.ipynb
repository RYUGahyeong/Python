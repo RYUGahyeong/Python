{
 "cells": [
  {
   "cell_type": "code",
   "execution_count": 1,
   "id": "5623c626",
   "metadata": {
    "scrolled": true
   },
   "outputs": [
    {
     "name": "stdout",
     "output_type": "stream",
     "text": [
      "Collecting googletrans==4.0.0.rc1\n",
      "  Downloading googletrans-4.0.0rc1.tar.gz (20 kB)\n",
      "  Preparing metadata (setup.py): started\n",
      "  Preparing metadata (setup.py): finished with status 'done'\n",
      "Collecting httpx==0.13.3\n",
      "  Downloading httpx-0.13.3-py3-none-any.whl (55 kB)\n",
      "     ---------------------------------------- 55.1/55.1 kB 2.8 MB/s eta 0:00:00\n",
      "Collecting idna==2.*\n",
      "  Downloading idna-2.10-py2.py3-none-any.whl (58 kB)\n",
      "     ---------------------------------------- 58.8/58.8 kB 3.0 MB/s eta 0:00:00\n",
      "Collecting hstspreload\n",
      "  Downloading hstspreload-2023.1.1-py3-none-any.whl (1.5 MB)\n",
      "     ---------------------------------------- 1.5/1.5 MB 4.9 MB/s eta 0:00:00\n",
      "Requirement already satisfied: certifi in c:\\users\\rou59\\anaconda3\\lib\\site-packages (from httpx==0.13.3->googletrans==4.0.0.rc1) (2022.12.7)\n",
      "Collecting chardet==3.*\n",
      "  Downloading chardet-3.0.4-py2.py3-none-any.whl (133 kB)\n",
      "     -------------------------------------- 133.4/133.4 kB 8.2 MB/s eta 0:00:00\n",
      "Collecting rfc3986<2,>=1.3\n",
      "  Downloading rfc3986-1.5.0-py2.py3-none-any.whl (31 kB)\n",
      "Collecting httpcore==0.9.*\n",
      "  Downloading httpcore-0.9.1-py3-none-any.whl (42 kB)\n",
      "     ---------------------------------------- 42.6/42.6 kB ? eta 0:00:00\n",
      "Requirement already satisfied: sniffio in c:\\users\\rou59\\anaconda3\\lib\\site-packages (from httpx==0.13.3->googletrans==4.0.0.rc1) (1.2.0)\n",
      "Collecting h11<0.10,>=0.8\n",
      "  Downloading h11-0.9.0-py2.py3-none-any.whl (53 kB)\n",
      "     ---------------------------------------- 53.6/53.6 kB ? eta 0:00:00\n",
      "Collecting h2==3.*\n",
      "  Downloading h2-3.2.0-py2.py3-none-any.whl (65 kB)\n",
      "     ---------------------------------------- 65.0/65.0 kB ? eta 0:00:00\n",
      "Collecting hpack<4,>=3.0\n",
      "  Downloading hpack-3.0.0-py2.py3-none-any.whl (38 kB)\n",
      "Collecting hyperframe<6,>=5.2.0\n",
      "  Downloading hyperframe-5.2.0-py2.py3-none-any.whl (12 kB)\n",
      "Building wheels for collected packages: googletrans\n",
      "  Building wheel for googletrans (setup.py): started\n",
      "  Building wheel for googletrans (setup.py): finished with status 'done'\n",
      "  Created wheel for googletrans: filename=googletrans-4.0.0rc1-py3-none-any.whl size=17461 sha256=0e65a7a72d63de3e6ba69464c3aa4f1948fcd28aa19ef74347daaa6514b9d58d\n",
      "  Stored in directory: c:\\users\\rou59\\appdata\\local\\pip\\cache\\wheels\\54\\ca\\27\\562b6eac3a495887e4b44bac3a1efe925fa603d085ba89a21d\n",
      "Successfully built googletrans\n",
      "Installing collected packages: rfc3986, hyperframe, hpack, h11, chardet, idna, hstspreload, h2, httpcore, httpx, googletrans\n",
      "  Attempting uninstall: h11\n",
      "    Found existing installation: h11 0.14.0\n",
      "    Uninstalling h11-0.14.0:\n",
      "      Successfully uninstalled h11-0.14.0\n",
      "  Attempting uninstall: chardet\n",
      "    Found existing installation: chardet 4.0.0\n",
      "    Uninstalling chardet-4.0.0:\n",
      "      Successfully uninstalled chardet-4.0.0\n",
      "  Attempting uninstall: idna\n",
      "    Found existing installation: idna 3.4\n",
      "    Uninstalling idna-3.4:\n",
      "      Successfully uninstalled idna-3.4\n",
      "Successfully installed chardet-3.0.4 googletrans-4.0.0rc1 h11-0.9.0 h2-3.2.0 hpack-3.0.0 hstspreload-2023.1.1 httpcore-0.9.1 httpx-0.13.3 hyperframe-5.2.0 idna-2.10 rfc3986-1.5.0\n"
     ]
    },
    {
     "name": "stderr",
     "output_type": "stream",
     "text": [
      "ERROR: pip's dependency resolver does not currently take into account all the packages that are installed. This behaviour is the source of the following dependency conflicts.\n",
      "conda-repo-cli 1.0.27 requires clyent==1.2.1, but you have clyent 1.2.2 which is incompatible.\n",
      "conda-repo-cli 1.0.27 requires nbformat==5.4.0, but you have nbformat 5.7.0 which is incompatible.\n"
     ]
    }
   ],
   "source": [
    "#영어 문서를 한글로 자동번역\n",
    "!pip install googletrans==4.0.0.rc1  #구글 번역기를 사용하기 위한 라이브러리 설피"
   ]
  },
  {
   "cell_type": "code",
   "execution_count": 2,
   "id": "2038ca1f",
   "metadata": {},
   "outputs": [],
   "source": [
    "import googletrans"
   ]
  },
  {
   "cell_type": "code",
   "execution_count": 7,
   "id": "bdef7e67",
   "metadata": {},
   "outputs": [
    {
     "name": "stdout",
     "output_type": "stream",
     "text": [
      "행복하세요 => be happy\n",
      "I am happy => 나는 행복하다\n"
     ]
    }
   ],
   "source": [
    "#번역 프로그램 코드 만들기\n",
    "translator = googletrans.Translator()\n",
    "\n",
    "str1 = \"행복하세요\"\n",
    "result1 = translator.translate(str1, dest = 'en', src = 'auto')\n",
    "print(f\"행복하세요 => {result1.text}\")\n",
    "\n",
    "str2 = \"I am happy\"\n",
    "result2 = translator.translate(str2, dest = 'ko', src = 'en')\n",
    "print(f\"I am happy => {result2.text}\")"
   ]
  },
  {
   "cell_type": "code",
   "execution_count": 8,
   "id": "fcfe47cd",
   "metadata": {},
   "outputs": [
    {
     "name": "stdout",
     "output_type": "stream",
     "text": [
      "{'af': 'afrikaans', 'sq': 'albanian', 'am': 'amharic', 'ar': 'arabic', 'hy': 'armenian', 'az': 'azerbaijani', 'eu': 'basque', 'be': 'belarusian', 'bn': 'bengali', 'bs': 'bosnian', 'bg': 'bulgarian', 'ca': 'catalan', 'ceb': 'cebuano', 'ny': 'chichewa', 'zh-cn': 'chinese (simplified)', 'zh-tw': 'chinese (traditional)', 'co': 'corsican', 'hr': 'croatian', 'cs': 'czech', 'da': 'danish', 'nl': 'dutch', 'en': 'english', 'eo': 'esperanto', 'et': 'estonian', 'tl': 'filipino', 'fi': 'finnish', 'fr': 'french', 'fy': 'frisian', 'gl': 'galician', 'ka': 'georgian', 'de': 'german', 'el': 'greek', 'gu': 'gujarati', 'ht': 'haitian creole', 'ha': 'hausa', 'haw': 'hawaiian', 'iw': 'hebrew', 'he': 'hebrew', 'hi': 'hindi', 'hmn': 'hmong', 'hu': 'hungarian', 'is': 'icelandic', 'ig': 'igbo', 'id': 'indonesian', 'ga': 'irish', 'it': 'italian', 'ja': 'japanese', 'jw': 'javanese', 'kn': 'kannada', 'kk': 'kazakh', 'km': 'khmer', 'ko': 'korean', 'ku': 'kurdish (kurmanji)', 'ky': 'kyrgyz', 'lo': 'lao', 'la': 'latin', 'lv': 'latvian', 'lt': 'lithuanian', 'lb': 'luxembourgish', 'mk': 'macedonian', 'mg': 'malagasy', 'ms': 'malay', 'ml': 'malayalam', 'mt': 'maltese', 'mi': 'maori', 'mr': 'marathi', 'mn': 'mongolian', 'my': 'myanmar (burmese)', 'ne': 'nepali', 'no': 'norwegian', 'or': 'odia', 'ps': 'pashto', 'fa': 'persian', 'pl': 'polish', 'pt': 'portuguese', 'pa': 'punjabi', 'ro': 'romanian', 'ru': 'russian', 'sm': 'samoan', 'gd': 'scots gaelic', 'sr': 'serbian', 'st': 'sesotho', 'sn': 'shona', 'sd': 'sindhi', 'si': 'sinhala', 'sk': 'slovak', 'sl': 'slovenian', 'so': 'somali', 'es': 'spanish', 'su': 'sundanese', 'sw': 'swahili', 'sv': 'swedish', 'tg': 'tajik', 'ta': 'tamil', 'te': 'telugu', 'th': 'thai', 'tr': 'turkish', 'uk': 'ukrainian', 'ur': 'urdu', 'ug': 'uyghur', 'uz': 'uzbek', 'vi': 'vietnamese', 'cy': 'welsh', 'xh': 'xhosa', 'yi': 'yiddish', 'yo': 'yoruba', 'zu': 'zulu'}\n"
     ]
    }
   ],
   "source": [
    "#googletrans 라이브러리에서 사용 가능한 언어 출력\n",
    "lang = googletrans.LANGUAGES\n",
    "print(lang)"
   ]
  },
  {
   "cell_type": "code",
   "execution_count": 9,
   "id": "6eb561ed",
   "metadata": {},
   "outputs": [],
   "source": [
    "#영어 문서를 한글로 번역하는 코드 만들기\n",
    "from os import linesep"
   ]
  },
  {
   "cell_type": "code",
   "execution_count": 10,
   "id": "ff254662",
   "metadata": {},
   "outputs": [
    {
     "name": "stdout",
     "output_type": "stream",
     "text": [
      "작은 연못에 큰 물고기\n",
      "좋은 약은 쓴 맛입니다\n",
      "고통이 없으면 얻는 것도 없다\n"
     ]
    }
   ],
   "source": [
    "translator = googletrans. Translator()\n",
    "\n",
    "read_file_path = r\"자동화 프로그램 만들기/영어파일.txt\"\n",
    "\n",
    "with open (read_file_path, 'r') as f :\n",
    "    readLines = f.readlines ()\n",
    "\n",
    "for lines in readLines:\n",
    "    result1 = translator. translate (lines, dest='ko') \n",
    "    print(result1.text)"
   ]
  },
  {
   "cell_type": "code",
   "execution_count": 11,
   "id": "1368351a",
   "metadata": {},
   "outputs": [
    {
     "name": "stdout",
     "output_type": "stream",
     "text": [
      "작은 연못에 큰 물고기\n",
      "좋은 약은 쓴 맛입니다\n",
      "고통이 없으면 얻는 것도 없다\n"
     ]
    }
   ],
   "source": [
    "#번역 내용을 새 파일로 저장하는 코드 만들기\n",
    "\n",
    "translator = googletrans. Translator()\n",
    "\n",
    "read_file_path = r\"자동화 프로그램 만들기/영어파일.txt\"\n",
    "write_file_path = r\"자동화 프로그램 만들기/한글파일.txt\"\n",
    "\n",
    "with open (read_file_path, 'r') as f :\n",
    "    readLines = f.readlines ()\n",
    "\n",
    "for lines in readLines:\n",
    "    result1 = translator. translate (lines, dest='ko') \n",
    "    print(result1.text)\n",
    "    with open(write_file_path, 'a', encoding = 'UTF8') as f:\n",
    "        f.write(result1.text + '\\n')  #파일로 저장하는 코드"
   ]
  }
 ],
 "metadata": {
  "kernelspec": {
   "display_name": "Python 3 (ipykernel)",
   "language": "python",
   "name": "python3"
  },
  "language_info": {
   "codemirror_mode": {
    "name": "ipython",
    "version": 3
   },
   "file_extension": ".py",
   "mimetype": "text/x-python",
   "name": "python",
   "nbconvert_exporter": "python",
   "pygments_lexer": "ipython3",
   "version": "3.10.9"
  }
 },
 "nbformat": 4,
 "nbformat_minor": 5
}
