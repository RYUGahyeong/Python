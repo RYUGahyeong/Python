{
 "cells": [
  {
   "cell_type": "code",
   "execution_count": 1,
   "id": "fa93af71",
   "metadata": {},
   "outputs": [
    {
     "name": "stdout",
     "output_type": "stream",
     "text": [
      "Collecting pyupbit\n",
      "  Downloading pyupbit-0.2.33-py3-none-any.whl (24 kB)\n",
      "Requirement already satisfied: requests in c:\\users\\rou59\\anaconda3\\lib\\site-packages (from pyupbit) (2.28.1)\n",
      "Collecting websockets\n",
      "  Downloading websockets-11.0.2-cp310-cp310-win_amd64.whl (124 kB)\n",
      "     -------------------------------------- 124.6/124.6 kB 1.5 MB/s eta 0:00:00\n",
      "Requirement already satisfied: pandas in c:\\users\\rou59\\anaconda3\\lib\\site-packages (from pyupbit) (1.5.3)\n",
      "Requirement already satisfied: pyjwt>=2.0.0 in c:\\users\\rou59\\anaconda3\\lib\\site-packages (from pyupbit) (2.4.0)\n",
      "Requirement already satisfied: pytz>=2020.1 in c:\\users\\rou59\\anaconda3\\lib\\site-packages (from pandas->pyupbit) (2022.7)\n",
      "Requirement already satisfied: python-dateutil>=2.8.1 in c:\\users\\rou59\\anaconda3\\lib\\site-packages (from pandas->pyupbit) (2.8.2)\n",
      "Requirement already satisfied: numpy>=1.21.0 in c:\\users\\rou59\\anaconda3\\lib\\site-packages (from pandas->pyupbit) (1.23.5)\n",
      "Requirement already satisfied: charset-normalizer<3,>=2 in c:\\users\\rou59\\anaconda3\\lib\\site-packages (from requests->pyupbit) (2.0.4)\n",
      "Requirement already satisfied: certifi>=2017.4.17 in c:\\users\\rou59\\anaconda3\\lib\\site-packages (from requests->pyupbit) (2022.12.7)\n",
      "Requirement already satisfied: idna<4,>=2.5 in c:\\users\\rou59\\anaconda3\\lib\\site-packages (from requests->pyupbit) (2.10)\n",
      "Requirement already satisfied: urllib3<1.27,>=1.21.1 in c:\\users\\rou59\\anaconda3\\lib\\site-packages (from requests->pyupbit) (1.26.14)\n",
      "Requirement already satisfied: six>=1.5 in c:\\users\\rou59\\anaconda3\\lib\\site-packages (from python-dateutil>=2.8.1->pandas->pyupbit) (1.16.0)\n",
      "Installing collected packages: websockets, pyupbit\n",
      "Successfully installed pyupbit-0.2.33 websockets-11.0.2\n"
     ]
    }
   ],
   "source": [
    "#가상화페 데이터 획득하여 데이터베이스에 저장\n",
    "!pip install pyupbit  #pyupbit에서 가상회페 데이터를 조회할 수 있는 라이브러리"
   ]
  },
  {
   "cell_type": "code",
   "execution_count": 2,
   "id": "c6163394",
   "metadata": {},
   "outputs": [
    {
     "name": "stdout",
     "output_type": "stream",
     "text": [
      "['KRW-BTC', 'KRW-ETH', 'KRW-NEO', 'KRW-MTL', 'KRW-XRP', 'KRW-ETC', 'KRW-SNT', 'KRW-WAVES', 'KRW-XEM', 'KRW-QTUM', 'KRW-LSK', 'KRW-STEEM', 'KRW-XLM', 'KRW-ARDR', 'KRW-ARK', 'KRW-STORJ', 'KRW-GRS', 'KRW-REP', 'KRW-ADA', 'KRW-SBD', 'KRW-POWR', 'KRW-BTG', 'KRW-ICX', 'KRW-EOS', 'KRW-TRX', 'KRW-SC', 'KRW-ONT', 'KRW-ZIL', 'KRW-POLYX', 'KRW-ZRX', 'KRW-LOOM', 'KRW-BCH', 'KRW-BAT', 'KRW-IOST', 'KRW-RFR', 'KRW-CVC', 'KRW-IQ', 'KRW-IOTA', 'KRW-HIFI', 'KRW-ONG', 'KRW-GAS', 'KRW-UPP', 'KRW-ELF', 'KRW-KNC', 'KRW-BSV', 'KRW-THETA', 'KRW-QKC', 'KRW-BTT', 'KRW-MOC', 'KRW-ENJ', 'KRW-TFUEL', 'KRW-MANA', 'KRW-ANKR', 'KRW-AERGO', 'KRW-ATOM', 'KRW-TT', 'KRW-CRE', 'KRW-MBL', 'KRW-WAXP', 'KRW-HBAR', 'KRW-MED', 'KRW-MLK', 'KRW-STPT', 'KRW-ORBS', 'KRW-VET', 'KRW-CHZ', 'KRW-STMX', 'KRW-DKA', 'KRW-HIVE', 'KRW-KAVA', 'KRW-AHT', 'KRW-LINK', 'KRW-XTZ', 'KRW-BORA', 'KRW-JST', 'KRW-CRO', 'KRW-TON', 'KRW-SXP', 'KRW-HUNT', 'KRW-PLA', 'KRW-DOT', 'KRW-MVL', 'KRW-STRAX', 'KRW-AQT', 'KRW-GLM', 'KRW-SSX', 'KRW-META', 'KRW-FCT2', 'KRW-CBK', 'KRW-SAND', 'KRW-HUM', 'KRW-DOGE', 'KRW-STRK', 'KRW-PUNDIX', 'KRW-FLOW', 'KRW-DAWN', 'KRW-AXS', 'KRW-STX', 'KRW-XEC', 'KRW-SOL', 'KRW-MATIC', 'KRW-AAVE', 'KRW-1INCH', 'KRW-ALGO', 'KRW-NEAR', 'KRW-AVAX', 'KRW-T', 'KRW-CELO', 'KRW-GMT', 'KRW-APT', 'KRW-SHIB', 'KRW-MASK', 'KRW-ARB']\n",
      "{'KRW-BTC': 39615000.0, 'KRW-ETH': 2597000.0}\n"
     ]
    }
   ],
   "source": [
    "#가상화폐 시세 조회 코드 만들기\n",
    "import pyupbit  #파이업비트 라이브러리 불러오기\n",
    "\n",
    "coin_lists = pyupbit.get_tickers (fiat='KRW')  # 거래되고있는 가상화폐 출력\n",
    "print(coin_lists)\n",
    "\n",
    "price_now = pyupbit.get_current_price([\"KRW-BTC\", \"KRW-ETH\"])  #비트코인과 이더리움의 한국 시세 출력\n",
    "print (price_now)"
   ]
  },
  {
   "cell_type": "code",
   "execution_count": 3,
   "id": "7bdf2203",
   "metadata": {},
   "outputs": [],
   "source": [
    "#비트코인의 분봉 데이터를 데이터베이스에 저장하는 코드 만들기\n",
    "import sqlite3"
   ]
  },
  {
   "cell_type": "code",
   "execution_count": 5,
   "id": "22cd28a2",
   "metadata": {},
   "outputs": [
    {
     "data": {
      "text/plain": [
       "<function Connection.close()>"
      ]
     },
     "execution_count": 5,
     "metadata": {},
     "output_type": "execute_result"
    }
   ],
   "source": [
    "ticker = 'KRW-BTC'\n",
    "interval= 'minute1'\n",
    "to = '2023-04-26 11:20'\n",
    "count = 200\n",
    "\n",
    "price_now = pyupbit.get_ohlcv(ticker = ticker, interval = interval, to = to, count = count)\n",
    "db_path = r'데이터수집/coin.db'\n",
    "\n",
    "con = sqlite3.connect(db_path, isolation_level = None) \n",
    "price_now.to_sql('BTC', con, if_exists = 'append')\n",
    "\n",
    "con.close"
   ]
  },
  {
   "cell_type": "code",
   "execution_count": 6,
   "id": "4ebc1e52",
   "metadata": {},
   "outputs": [],
   "source": [
    "#DB Browser (SQLite)를 통해 coin.db파일을 열어 데이터 확인"
   ]
  },
  {
   "cell_type": "code",
   "execution_count": 8,
   "id": "cbaa90d1",
   "metadata": {},
   "outputs": [
    {
     "name": "stdout",
     "output_type": "stream",
     "text": [
      "                           open        high         low       close  \\\n",
      "index                                                                 \n",
      "2023-04-26 17:00:00  37866000.0  37866000.0  37850000.0  37866000.0   \n",
      "2023-04-26 17:01:00  37866000.0  37874000.0  37866000.0  37874000.0   \n",
      "2023-04-26 17:02:00  37876000.0  37889000.0  37874000.0  37875000.0   \n",
      "2023-04-26 17:03:00  37875000.0  37879000.0  37875000.0  37879000.0   \n",
      "2023-04-26 17:04:00  37879000.0  37886000.0  37879000.0  37882000.0   \n",
      "...                         ...         ...         ...         ...   \n",
      "2023-04-26 20:15:00  38625000.0  38655000.0  38602000.0  38623000.0   \n",
      "2023-04-26 20:16:00  38623000.0  38655000.0  38618000.0  38655000.0   \n",
      "2023-04-26 20:17:00  38654000.0  38660000.0  38651000.0  38652000.0   \n",
      "2023-04-26 20:18:00  38652000.0  38659000.0  38614000.0  38623000.0   \n",
      "2023-04-26 20:19:00  38623000.0  38623000.0  38590000.0  38599000.0   \n",
      "\n",
      "                        volume         value  \n",
      "index                                         \n",
      "2023-04-26 17:00:00   0.668536  2.531423e+07  \n",
      "2023-04-26 17:01:00   1.136657  4.304385e+07  \n",
      "2023-04-26 17:02:00   0.911748  3.453380e+07  \n",
      "2023-04-26 17:03:00   0.903014  3.420449e+07  \n",
      "2023-04-26 17:04:00   0.851948  3.227323e+07  \n",
      "...                        ...           ...  \n",
      "2023-04-26 20:15:00  14.971183  5.781361e+08  \n",
      "2023-04-26 20:16:00   2.582370  9.977651e+07  \n",
      "2023-04-26 20:17:00   4.313001  1.667226e+08  \n",
      "2023-04-26 20:18:00   4.438253  1.714933e+08  \n",
      "2023-04-26 20:19:00   8.158551  3.149861e+08  \n",
      "\n",
      "[200 rows x 6 columns]\n"
     ]
    }
   ],
   "source": [
    "#데이터베이스의 데이터를 읽고 출력하는 코드 만들기\n",
    "import pandas as pd\n",
    "db_path = r'데이터수집/coin.db'\n",
    "con = sqlite3.connect(db_path, isolation_level = None) \n",
    "\n",
    "readed_df = pd.read_sql(\"SELECT * FROM 'BTC'\", con, index_col = 'index')\n",
    "\n",
    "print(readed_df)"
   ]
  },
  {
   "cell_type": "code",
   "execution_count": 11,
   "id": "fd45d146",
   "metadata": {},
   "outputs": [
    {
     "name": "stdout",
     "output_type": "stream",
     "text": [
      "['2023-04-26', '2023-04-27']\n",
      "2023-04-27 00:00\n",
      "                           open        high         low       close  \\\n",
      "2023-04-26 21:35:00  39705000.0  39768000.0  39705000.0  39740000.0   \n",
      "2023-04-26 21:36:00  39739000.0  39755000.0  39702000.0  39734000.0   \n",
      "2023-04-26 21:37:00  39706000.0  39735000.0  39606000.0  39648000.0   \n",
      "2023-04-26 21:38:00  39650000.0  39684000.0  39646000.0  39646000.0   \n",
      "2023-04-26 21:39:00  39645000.0  39673000.0  39643000.0  39652000.0   \n",
      "...                         ...         ...         ...         ...   \n",
      "2023-04-27 00:50:00  39641000.0  39648000.0  39624000.0  39643000.0   \n",
      "2023-04-27 00:51:00  39643000.0  39648000.0  39641000.0  39642000.0   \n",
      "2023-04-27 00:52:00  39645000.0  39645000.0  39625000.0  39641000.0   \n",
      "2023-04-27 00:53:00  39641000.0  39641000.0  39625000.0  39628000.0   \n",
      "2023-04-27 00:54:00  39639000.0  39639000.0  39625000.0  39639000.0   \n",
      "\n",
      "                        volume         value  \n",
      "2023-04-26 21:35:00  36.103145  1.434946e+09  \n",
      "2023-04-26 21:36:00  25.613002  1.017910e+09  \n",
      "2023-04-26 21:37:00  44.365581  1.759623e+09  \n",
      "2023-04-26 21:38:00  52.241113  2.072342e+09  \n",
      "2023-04-26 21:39:00  31.313441  1.241533e+09  \n",
      "...                        ...           ...  \n",
      "2023-04-27 00:50:00   2.346613  9.302016e+07  \n",
      "2023-04-27 00:51:00   1.908321  7.565389e+07  \n",
      "2023-04-27 00:52:00   1.118002  4.431385e+07  \n",
      "2023-04-27 00:53:00   1.962729  7.778243e+07  \n",
      "2023-04-27 00:54:00   0.375737  1.489234e+07  \n",
      "\n",
      "[200 rows x 6 columns]\n",
      "2023-04-26 00:00\n",
      "                           open        high         low       close    volume  \\\n",
      "2023-04-26 05:40:00  37382000.0  37406000.0  37369000.0  37391000.0  3.677213   \n",
      "2023-04-26 05:41:00  37385000.0  37405000.0  37385000.0  37400000.0  0.326644   \n",
      "2023-04-26 05:42:00  37400000.0  37411000.0  37393000.0  37411000.0  2.789653   \n",
      "2023-04-26 05:43:00  37411000.0  37411000.0  37386000.0  37399000.0  7.973805   \n",
      "2023-04-26 05:44:00  37399000.0  37400000.0  37373000.0  37380000.0  2.588900   \n",
      "...                         ...         ...         ...         ...       ...   \n",
      "2023-04-26 08:55:00  37982000.0  37999000.0  37977000.0  37977000.0  5.103801   \n",
      "2023-04-26 08:56:00  37977000.0  37980000.0  37931000.0  37931000.0  7.115196   \n",
      "2023-04-26 08:57:00  37930000.0  37937000.0  37902000.0  37917000.0  7.880979   \n",
      "2023-04-26 08:58:00  37902000.0  37917000.0  37889000.0  37908000.0  5.815700   \n",
      "2023-04-26 08:59:00  37890000.0  37907000.0  37876000.0  37877000.0  9.211330   \n",
      "\n",
      "                            value  \n",
      "2023-04-26 05:40:00  1.374638e+08  \n",
      "2023-04-26 05:41:00  1.221577e+07  \n",
      "2023-04-26 05:42:00  1.043333e+08  \n",
      "2023-04-26 05:43:00  2.982481e+08  \n",
      "2023-04-26 05:44:00  9.679955e+07  \n",
      "...                           ...  \n",
      "2023-04-26 08:55:00  1.938633e+08  \n",
      "2023-04-26 08:56:00  2.700922e+08  \n",
      "2023-04-26 08:57:00  2.988098e+08  \n",
      "2023-04-26 08:58:00  2.204153e+08  \n",
      "2023-04-26 08:59:00  3.489657e+08  \n",
      "\n",
      "[200 rows x 6 columns]\n"
     ]
    }
   ],
   "source": [
    "#비트코인 데이터를 읽어 데이터베이스에 저장하는 코드 만들기\n",
    "#2023-04-25 ~ 2023-04-26\n",
    "import datetime\n",
    "\n",
    "def date_range(start, end):\n",
    "    start = datetime.datetime.strptime(start, \"%Y-%m-%d\")\n",
    "    start = start + datetime.timedelta(days = 1)\n",
    "    end = datetime.datetime.strptime(end, \"%Y-%m-%d\")\n",
    "    end = end + datetime.timedelta(days = 1)\n",
    "    dates = [(start + datetime.timedelta(days = i)).strftime(\"%Y-%m-%d\") for i in range((end-start).days+1)]\n",
    "    return dates\n",
    "\n",
    "dates = date_range(\"2023-04-25\", \"2023-04-26\")  #수집할 기간 지정\n",
    "\n",
    "print(dates)\n",
    "\n",
    "for day in reversed(dates):\n",
    "    myDay = day + ' 00:00'\n",
    "    print(myDay)\n",
    "\n",
    "    ticker = 'KRW-BTC'  #하루치의 분봉 데이터 수집\n",
    "    interval = 'minute1'\n",
    "    to = myDay\n",
    "    Count = 1440\n",
    "    price_now = pyupbit.get_ohlcv(ticker = ticker, interval = interval, to = to, count = count)\n",
    "    print (price_now)\n",
    "    \n",
    "    db_path = r'데이터수집/coin_1.db'\n",
    "    \n",
    "    con = sqlite3.connect(db_path, isolation_level = None) \n",
    "    price_now.to_sql('BTC', con, if_exists = 'append')"
   ]
  }
 ],
 "metadata": {
  "kernelspec": {
   "display_name": "Python 3 (ipykernel)",
   "language": "python",
   "name": "python3"
  },
  "language_info": {
   "codemirror_mode": {
    "name": "ipython",
    "version": 3
   },
   "file_extension": ".py",
   "mimetype": "text/x-python",
   "name": "python",
   "nbconvert_exporter": "python",
   "pygments_lexer": "ipython3",
   "version": "3.10.9"
  }
 },
 "nbformat": 4,
 "nbformat_minor": 5
}
