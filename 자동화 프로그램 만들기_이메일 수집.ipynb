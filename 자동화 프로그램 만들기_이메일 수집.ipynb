{
 "cells": [
  {
   "cell_type": "code",
   "execution_count": 1,
   "id": "8141ae42",
   "metadata": {},
   "outputs": [],
   "source": [
    "#자동화 프로그램 만들기\n",
    "#이메일을 수집하여 엑셀에 기록하기\n",
    "import re"
   ]
  },
  {
   "cell_type": "code",
   "execution_count": 5,
   "id": "b538b4b5",
   "metadata": {},
   "outputs": [
    {
     "name": "stdout",
     "output_type": "stream",
     "text": [
      "['aaa@bbb.com', '123@abc.co.kr', 'test@hello.kr', 'ok@ok.co.kr', 'ok@ok.co.kr', 'ok@ok.co.kr']\n"
     ]
    }
   ],
   "source": [
    "#이메일 형식을 추출하는 코드 만들기\n",
    "test_string = \"\"\"\n",
    "aaa@bbb.com\n",
    "123@abc.co.kr\n",
    "test@hello.kr\n",
    "ok@ok.co.kr\n",
    "ok@ok.co.kr\n",
    "ok@ok.co.kr\n",
    "no.co.kr\n",
    "no.kr\n",
    "\"\"\"\n",
    "\n",
    "results = re.findall(r'[\\w\\.-]+@[\\w\\.-]+', test_string)\n",
    "print(results)"
   ]
  },
  {
   "cell_type": "code",
   "execution_count": 6,
   "id": "f2e90f36",
   "metadata": {},
   "outputs": [
    {
     "name": "stdout",
     "output_type": "stream",
     "text": [
      "['ok@ok.co.kr', 'aaa@bbb.com', 'test@hello.kr', '123@abc.co.kr']\n"
     ]
    }
   ],
   "source": [
    "#리스트에서 중복 내용 제거하는 코드 만들기\n",
    "test_string = \"\"\"\n",
    "aaa@bbb.com\n",
    "123@abc.co.kr\n",
    "test@hello.kr\n",
    "ok@ok.co.kr\n",
    "ok@ok.co.kr\n",
    "ok@ok.co.kr\n",
    "no.co.kr\n",
    "no.kr\n",
    "\"\"\"\n",
    "\n",
    "results = re.findall(r'[\\w\\.-]+@[\\w\\.-]+', test_string)\n",
    "results = list(set(results))\n",
    "\n",
    "print(results)"
   ]
  },
  {
   "cell_type": "code",
   "execution_count": 7,
   "id": "be1da931",
   "metadata": {},
   "outputs": [],
   "source": [
    "#사이트에서 이메일 수집하는 코드 만들기\n",
    "import requests  #사이트에 접속하기 위한 모듈"
   ]
  },
  {
   "cell_type": "code",
   "execution_count": 10,
   "id": "d3e38130",
   "metadata": {},
   "outputs": [
    {
     "name": "stdout",
     "output_type": "stream",
     "text": [
      "['aaaa3469@segye.com']\n"
     ]
    }
   ],
   "source": [
    "url = \"https://n.news.naver.com/mnews/article/022/0003805663?sid=101\"\n",
    "\n",
    "headers = {\n",
    "    'User-Agent': 'Mozilla/0.5',\n",
    "    'Content-Type': 'text/html; charset=utf-8'\n",
    "    }\n",
    "\n",
    "respones = requests.get(url, headers = headers)\n",
    "\n",
    "results = re.findall(r'[\\w\\.-]+@[\\w\\.-]+', respones.text)\n",
    "results = list(set(results))\n",
    "\n",
    "print(results)"
   ]
  },
  {
   "cell_type": "code",
   "execution_count": 11,
   "id": "c629402d",
   "metadata": {},
   "outputs": [],
   "source": [
    "#수집한 이메일 주소를 엑셀에 저장하는 코드 만들기\n",
    "from openpyxl import load_workbook\n",
    "from openpyxl import Workbook"
   ]
  },
  {
   "cell_type": "code",
   "execution_count": 14,
   "id": "165073df",
   "metadata": {},
   "outputs": [
    {
     "name": "stdout",
     "output_type": "stream",
     "text": [
      "['aaaa3469@segye.com']\n"
     ]
    }
   ],
   "source": [
    "url = \"https://n.news.naver.com/mnews/article/022/0003805663?sid=101\"\n",
    "\n",
    "headers = {\n",
    "    'User-Agent': 'Mozilla/0.5',\n",
    "    'Content-Type': 'text/html; charset=utf-8'\n",
    "    }\n",
    "\n",
    "respones = requests.get(url, headers = headers)\n",
    "\n",
    "results = re.findall(r'[\\w\\.-]+@[\\w\\.-]+', respones.text)\n",
    "results = list(set(results))\n",
    "\n",
    "print(results)\n",
    "\n",
    "try:\n",
    "    wb = load_workbook (r\"자동화 프로그램 만들기/email.xlsx\", data_only=True)\n",
    "    sheet = wb.active\n",
    "except:\n",
    "    wb = Workbook ()\n",
    "    sheet = wb.active\n",
    "    \n",
    "for result in results:\n",
    "    sheet.append([result])\n",
    "\n",
    "wb.save(r\"자동화 프로그램 만들기/email.xlsx\")"
   ]
  }
 ],
 "metadata": {
  "kernelspec": {
   "display_name": "Python 3 (ipykernel)",
   "language": "python",
   "name": "python3"
  },
  "language_info": {
   "codemirror_mode": {
    "name": "ipython",
    "version": 3
   },
   "file_extension": ".py",
   "mimetype": "text/x-python",
   "name": "python",
   "nbconvert_exporter": "python",
   "pygments_lexer": "ipython3",
   "version": "3.10.9"
  }
 },
 "nbformat": 4,
 "nbformat_minor": 5
}
