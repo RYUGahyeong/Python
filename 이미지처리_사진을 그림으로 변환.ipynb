{
 "cells": [
  {
   "cell_type": "code",
   "execution_count": 4,
   "id": "fcfb4320",
   "metadata": {},
   "outputs": [
    {
     "name": "stdout",
     "output_type": "stream",
     "text": [
      "Collecting opencv-python\n",
      "  Downloading opencv_python-4.7.0.72-cp37-abi3-win_amd64.whl (38.2 MB)\n",
      "     ---------------------------------------- 38.2/38.2 MB 2.2 MB/s eta 0:00:00\n",
      "Requirement already satisfied: numpy>=1.21.2 in c:\\users\\rou59\\anaconda3\\lib\\site-packages (from opencv-python) (1.23.5)\n",
      "Installing collected packages: opencv-python\n",
      "Successfully installed opencv-python-4.7.0.72\n"
     ]
    }
   ],
   "source": [
    "#사진을 그림으로 변환하기\n",
    "!pip install opencv-python"
   ]
  },
  {
   "cell_type": "code",
   "execution_count": 1,
   "id": "0af61f4b",
   "metadata": {},
   "outputs": [],
   "source": [
    "#사진을 그림으로 변환\n",
    "import numpy as np\n",
    "import cv2\n",
    "ff = np. fromfile(r'이미지처리/가족이미지.jpg', np.uint8)\n",
    "img = cv2.imdecode(ff, cv2.IMREAD_UNCHANGED)\n",
    "img = cv2.resize(img, dsize=(0, 0), fx=1.0, fy=1.0, interpolation = cv2.INTER_LINEAR)\n",
    "\n",
    "cartoon_img= cv2.stylization (img, sigma_s=100, sigma_r=0.1)  #sigma_s값과 sigma_r값을 조절하여 이미지를 그림화\n",
    "\n",
    "cv2.imshow('cartoon view', cartoon_img)\n",
    "cv2.waitKey(0)\n",
    "cv2.destroyAllWindows()"
   ]
  },
  {
   "cell_type": "code",
   "execution_count": 2,
   "id": "c04b99d7",
   "metadata": {
    "scrolled": false
   },
   "outputs": [
    {
     "name": "stdout",
     "output_type": "stream",
     "text": [
      "sigma_s_value: 100\n",
      "sigma_r_value: 0.1\n",
      "sigma_s_value: 100\n",
      "sigma_r_value: 0.1\n",
      "sigma_s_value: 100\n",
      "sigma_r_value: 0.1\n",
      "sigma_s_value: 100\n",
      "sigma_r_value: 0.11\n",
      "sigma_s_value: 100\n",
      "sigma_r_value: 0.11\n",
      "sigma_s_value: 100\n",
      "sigma_r_value: 0.31\n",
      "sigma_s_value: 140\n",
      "sigma_r_value: 0.31\n"
     ]
    },
    {
     "ename": "error",
     "evalue": "OpenCV(4.7.0) D:\\a\\opencv-python\\opencv-python\\opencv\\modules\\highgui\\src\\window_w32.cpp:2576: error: (-27:Null pointer) NULL window: 'Trackbar Windows' in function 'cvGetTrackbarPos'\n",
     "output_type": "error",
     "traceback": [
      "\u001b[1;31m---------------------------------------------------------------------------\u001b[0m",
      "\u001b[1;31merror\u001b[0m                                     Traceback (most recent call last)",
      "Cell \u001b[1;32mIn[2], line 22\u001b[0m\n\u001b[0;32m     19\u001b[0m \u001b[38;5;28;01mif\u001b[39;00m cv2\u001b[38;5;241m.\u001b[39mwaitKey(\u001b[38;5;241m100\u001b[39m) \u001b[38;5;241m==\u001b[39m \u001b[38;5;28mord\u001b[39m(\u001b[38;5;124m'\u001b[39m\u001b[38;5;124mq\u001b[39m\u001b[38;5;124m'\u001b[39m):\n\u001b[0;32m     20\u001b[0m     \u001b[38;5;28;01mbreak\u001b[39;00m\n\u001b[1;32m---> 22\u001b[0m sigma_s_value \u001b[38;5;241m=\u001b[39m \u001b[43mcv2\u001b[49m\u001b[38;5;241;43m.\u001b[39;49m\u001b[43mgetTrackbarPos\u001b[49m\u001b[43m(\u001b[49m\u001b[38;5;124;43m\"\u001b[39;49m\u001b[38;5;124;43msigma_s\u001b[39;49m\u001b[38;5;124;43m\"\u001b[39;49m\u001b[43m,\u001b[49m\u001b[43m \u001b[49m\u001b[38;5;124;43m\"\u001b[39;49m\u001b[38;5;124;43mTrackbar Windows\u001b[39;49m\u001b[38;5;124;43m\"\u001b[39;49m\u001b[43m)\u001b[49m \n\u001b[0;32m     23\u001b[0m sigma_r_value \u001b[38;5;241m=\u001b[39m cv2\u001b[38;5;241m.\u001b[39mgetTrackbarPos(\u001b[38;5;124m\"\u001b[39m\u001b[38;5;124msigma_r\u001b[39m\u001b[38;5;124m\"\u001b[39m, \u001b[38;5;124m\"\u001b[39m\u001b[38;5;124mTrackbar Windows\u001b[39m\u001b[38;5;124m\"\u001b[39m) \u001b[38;5;241m/\u001b[39m \u001b[38;5;241m100.0\u001b[39m\n\u001b[0;32m     25\u001b[0m \u001b[38;5;28mprint\u001b[39m(\u001b[38;5;124m\"\u001b[39m\u001b[38;5;124msigma_s_value:\u001b[39m\u001b[38;5;124m\"\u001b[39m,sigma_s_value)\n",
      "\u001b[1;31merror\u001b[0m: OpenCV(4.7.0) D:\\a\\opencv-python\\opencv-python\\opencv\\modules\\highgui\\src\\window_w32.cpp:2576: error: (-27:Null pointer) NULL window: 'Trackbar Windows' in function 'cvGetTrackbarPos'\n"
     ]
    }
   ],
   "source": [
    "#sigma_s값과 sigma_r값을 실시간으로 변환\n",
    "ff = np. fromfile(r'이미지처리/가족이미지.jpg', np.uint8)\n",
    "img = cv2.imdecode(ff, cv2.IMREAD_UNCHANGED)\n",
    "img = cv2.resize(img, dsize=(0, 0), fx=1.0, fy=1.0, interpolation = cv2.INTER_LINEAR)\n",
    "\n",
    "def onChange(pos):\n",
    "    pass\n",
    "\n",
    "cv2.namedWindow(\"Trackbar Windows\")\n",
    "\n",
    "cv2.createTrackbar(\"sigma_s\", \"Trackbar Windows\", 0, 200, onChange)\n",
    "cv2.createTrackbar(\"sigma_r\", \"Trackbar Windows\", 0, 100, onChange)\n",
    "\n",
    "cv2.setTrackbarPos(\"sigma_s\", \"Trackbar Windows\", 100)\n",
    "cv2.setTrackbarPos(\"sigma_r\", \"Trackbar Windows\", 10)\n",
    "\n",
    "while True:\n",
    "    \n",
    "    if cv2.waitKey(100) == ord('q'):\n",
    "        break\n",
    "        \n",
    "    sigma_s_value = cv2.getTrackbarPos(\"sigma_s\", \"Trackbar Windows\") \n",
    "    sigma_r_value = cv2.getTrackbarPos(\"sigma_r\", \"Trackbar Windows\") / 100.0\n",
    "\n",
    "    print(\"sigma_s_value:\",sigma_s_value)\n",
    "    print(\"sigma_r_value:\", sigma_r_value)\n",
    "    \n",
    "    cartoon_img= cv2.stylization(img, sigma_s = sigma_s_value, sigma_r = sigma_r_value)\n",
    "    \n",
    "    cv2.imshow(\"Trackbar Windows\", cartoon_img)\n",
    "    \n",
    "cv2.destroyAllWindows()"
   ]
  }
 ],
 "metadata": {
  "kernelspec": {
   "display_name": "Python 3 (ipykernel)",
   "language": "python",
   "name": "python3"
  },
  "language_info": {
   "codemirror_mode": {
    "name": "ipython",
    "version": 3
   },
   "file_extension": ".py",
   "mimetype": "text/x-python",
   "name": "python",
   "nbconvert_exporter": "python",
   "pygments_lexer": "ipython3",
   "version": "3.10.9"
  }
 },
 "nbformat": 4,
 "nbformat_minor": 5
}
